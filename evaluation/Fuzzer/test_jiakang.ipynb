{
 "cells": [
  {
   "cell_type": "code",
   "execution_count": 1,
   "metadata": {},
   "outputs": [],
   "source": [
    "from fuzzer_tester import FuzzerTester"
   ]
  },
  {
   "cell_type": "code",
   "execution_count": 11,
   "metadata": {},
   "outputs": [],
   "source": [
    "# Setup for a Python FuzzerTester\n",
    "\n",
    "tester = FuzzerTester(\n",
    "    input_path='./test_functions/python_test_function_4/'\n",
    ")"
   ]
  },
  {
   "cell_type": "code",
   "execution_count": 12,
   "metadata": {},
   "outputs": [
    {
     "name": "stdout",
     "output_type": "stream",
     "text": [
      "syntax\n",
      "generated program failed:   File \"/home/ubuntu/CodeGen/BCE/PassAtKRunner/Fuzzer/./tmp/generated_code_test/generated_code_test.py\", line 4\n",
      "    return 10 / 0\n",
      "    ^\n",
      "IndentationError: expected an indented block after function definition on line 3\n",
      "\n",
      "--------------------------------------------------------------------------------\n",
      "syntax\n",
      "generated program failed:   File \"/home/ubuntu/CodeGen/BCE/PassAtKRunner/Fuzzer/./tmp/generated_code_test/generated_code_test.py\", line 4\n",
      "    return 10 / 0\n",
      "    ^\n",
      "IndentationError: expected an indented block after function definition on line 3\n",
      "\n",
      "--------------------------------------------------------------------------------\n",
      "syntax\n",
      "generated program failed:   File \"/home/ubuntu/CodeGen/BCE/PassAtKRunner/Fuzzer/./tmp/generated_code_test/generated_code_test.py\", line 4\n",
      "    return 10 / 0\n",
      "    ^\n",
      "IndentationError: expected an indented block after function definition on line 3\n",
      "\n",
      "--------------------------------------------------------------------------------\n",
      "syntax\n",
      "generated program failed:   File \"/home/ubuntu/CodeGen/BCE/PassAtKRunner/Fuzzer/./tmp/generated_code_test/generated_code_test.py\", line 4\n",
      "    return 10 / 0\n",
      "    ^\n",
      "IndentationError: expected an indented block after function definition on line 3\n",
      "\n",
      "--------------------------------------------------------------------------------\n",
      "syntax\n",
      "generated program failed:   File \"/home/ubuntu/CodeGen/BCE/PassAtKRunner/Fuzzer/./tmp/generated_code_test/generated_code_test.py\", line 4\n",
      "    return 10 / 0\n",
      "    ^\n",
      "IndentationError: expected an indented block after function definition on line 3\n",
      "\n",
      "--------------------------------------------------------------------------------\n",
      "syntax\n",
      "generated program failed:   File \"/home/ubuntu/CodeGen/BCE/PassAtKRunner/Fuzzer/./tmp/generated_code_test/generated_code_test.py\", line 4\n",
      "    return 10 / 0\n",
      "    ^\n",
      "IndentationError: expected an indented block after function definition on line 3\n",
      "\n",
      "--------------------------------------------------------------------------------\n",
      "syntax\n",
      "generated program failed:   File \"/home/ubuntu/CodeGen/BCE/PassAtKRunner/Fuzzer/./tmp/generated_code_test/generated_code_test.py\", line 4\n",
      "    return 10 / 0\n",
      "    ^\n",
      "IndentationError: expected an indented block after function definition on line 3\n",
      "\n",
      "--------------------------------------------------------------------------------\n",
      "syntax\n",
      "generated program failed:   File \"/home/ubuntu/CodeGen/BCE/PassAtKRunner/Fuzzer/./tmp/generated_code_test/generated_code_test.py\", line 4\n",
      "    return 10 / 0\n",
      "    ^\n",
      "IndentationError: expected an indented block after function definition on line 3\n",
      "\n",
      "--------------------------------------------------------------------------------\n",
      "syntax\n",
      "generated program failed:   File \"/home/ubuntu/CodeGen/BCE/PassAtKRunner/Fuzzer/./tmp/generated_code_test/generated_code_test.py\", line 4\n",
      "    return 10 / 0\n",
      "    ^\n",
      "IndentationError: expected an indented block after function definition on line 3\n",
      "\n",
      "--------------------------------------------------------------------------------\n",
      "syntax\n",
      "generated program failed:   File \"/home/ubuntu/CodeGen/BCE/PassAtKRunner/Fuzzer/./tmp/generated_code_test/generated_code_test.py\", line 4\n",
      "    return 10 / 0\n",
      "    ^\n",
      "IndentationError: expected an indented block after function definition on line 3\n",
      "\n",
      "--------------------------------------------------------------------------------\n"
     ]
    }
   ],
   "source": [
    "for item in tester.run_fuzzer_tests():\n",
    "    print(item[1])\n",
    "    print(item[2])\n",
    "    print('-' * 80)"
   ]
  },
  {
   "cell_type": "code",
   "execution_count": 4,
   "metadata": {},
   "outputs": [
    {
     "name": "stdout",
     "output_type": "stream",
     "text": [
      "[(False, 'differing output', ('-0.4316007595880007\\n', '0.4316007595880007\\n')), (False, 'differing output', ('-0.35622774661051204\\n', '0.35622774661051204\\n')), (False, 'differing output', ('-0.31759882844174303\\n', '0.31759882844174303\\n')), (False, 'differing output', ('-0.1997967977304621\\n', '0.1997967977304621\\n')), (False, 'differing output', ('-0.026397286504969197\\n', '0.026397286504969197\\n')), (False, 'differing output', ('-0.018838172746085124\\n', '0.018838172746085124\\n')), (False, 'differing output', ('-0.0354478201723184\\n', '0.0354478201723184\\n')), (False, 'differing output', ('-0.03395640026385327\\n', '0.03395640026385327\\n')), (False, 'differing output', ('-0.6215813381915983\\n', '0.6215813381915983\\n')), (False, 'differing output', ('-0.6136632797111822\\n', '0.6136632797111822\\n'))]\n"
     ]
    }
   ],
   "source": [
    "# Setup for a Java FuzzerTester\n",
    "\n",
    "from fuzzer_tester import FuzzerTester\n",
    "\n",
    "results = FuzzerTester(\n",
    "    gen_code_test_file='Main',\n",
    "    golden_code_test_file='Main',\n",
    "    language='java',\n",
    "    test_program='./run_java.sh'\n",
    ").test_functions(\n",
    "    context_path='/home/ubuntu/CodeGen/BCE/Java/Context/0.java',\n",
    "    generated_path='/home/ubuntu/CodeGen/BCE/Java/GeneratedCode/0.java',\n",
    "    golden_path='/home/ubuntu/CodeGen/BCE/Java/GoldenCode/0.java'\n",
    ")\n",
    "\n",
    "print(results)\n"
   ]
  },
  {
   "cell_type": "code",
   "execution_count": 2,
   "metadata": {},
   "outputs": [
    {
     "name": "stdout",
     "output_type": "stream",
     "text": [
      "syntax\n",
      "generated program failed: Main.java:6: error: illegal start of expression\n",
      "    public static void main(String[] args) {\n",
      "    ^\n",
      "1 error\n",
      "Error: Could not find or load main class Main\n",
      "Caused by: java.lang.ClassNotFoundException: Main\n",
      "\n",
      "--------------------------------------------------------------------------------\n",
      "syntax\n",
      "generated program failed: Main.java:6: error: illegal start of expression\n",
      "    public static void main(String[] args) {\n",
      "    ^\n",
      "1 error\n",
      "Error: Could not find or load main class Main\n",
      "Caused by: java.lang.ClassNotFoundException: Main\n",
      "\n",
      "--------------------------------------------------------------------------------\n",
      "syntax\n",
      "generated program failed: Main.java:6: error: illegal start of expression\n",
      "    public static void main(String[] args) {\n",
      "    ^\n",
      "1 error\n",
      "Error: Could not find or load main class Main\n",
      "Caused by: java.lang.ClassNotFoundException: Main\n",
      "\n",
      "--------------------------------------------------------------------------------\n",
      "syntax\n",
      "generated program failed: Main.java:6: error: illegal start of expression\n",
      "    public static void main(String[] args) {\n",
      "    ^\n",
      "1 error\n",
      "Error: Could not find or load main class Main\n",
      "Caused by: java.lang.ClassNotFoundException: Main\n",
      "\n",
      "--------------------------------------------------------------------------------\n",
      "syntax\n",
      "generated program failed: Main.java:6: error: illegal start of expression\n",
      "    public static void main(String[] args) {\n",
      "    ^\n",
      "1 error\n",
      "Error: Could not find or load main class Main\n",
      "Caused by: java.lang.ClassNotFoundException: Main\n",
      "\n",
      "--------------------------------------------------------------------------------\n",
      "syntax\n",
      "generated program failed: Main.java:6: error: illegal start of expression\n",
      "    public static void main(String[] args) {\n",
      "    ^\n",
      "1 error\n",
      "Error: Could not find or load main class Main\n",
      "Caused by: java.lang.ClassNotFoundException: Main\n",
      "\n",
      "--------------------------------------------------------------------------------\n",
      "syntax\n",
      "generated program failed: Main.java:6: error: illegal start of expression\n",
      "    public static void main(String[] args) {\n",
      "    ^\n",
      "1 error\n",
      "Error: Could not find or load main class Main\n",
      "Caused by: java.lang.ClassNotFoundException: Main\n",
      "\n",
      "--------------------------------------------------------------------------------\n",
      "syntax\n",
      "generated program failed: Main.java:6: error: illegal start of expression\n",
      "    public static void main(String[] args) {\n",
      "    ^\n",
      "1 error\n",
      "Error: Could not find or load main class Main\n",
      "Caused by: java.lang.ClassNotFoundException: Main\n",
      "\n",
      "--------------------------------------------------------------------------------\n",
      "syntax\n",
      "generated program failed: Main.java:6: error: illegal start of expression\n",
      "    public static void main(String[] args) {\n",
      "    ^\n",
      "1 error\n",
      "Error: Could not find or load main class Main\n",
      "Caused by: java.lang.ClassNotFoundException: Main\n",
      "\n",
      "--------------------------------------------------------------------------------\n",
      "syntax\n",
      "generated program failed: Main.java:6: error: illegal start of expression\n",
      "    public static void main(String[] args) {\n",
      "    ^\n",
      "1 error\n",
      "Error: Could not find or load main class Main\n",
      "Caused by: java.lang.ClassNotFoundException: Main\n",
      "\n",
      "--------------------------------------------------------------------------------\n"
     ]
    }
   ],
   "source": [
    "for item in tester.run_fuzzer_tests():\n",
    "    print(item[1])\n",
    "    print(item[2])\n",
    "    print('-' * 80)"
   ]
  },
  {
   "cell_type": "code",
   "execution_count": 1,
   "metadata": {},
   "outputs": [],
   "source": [
    "from fuzzer_tester import RandomBoolStrategy, RandomFloatStrategy, RandomIntegerStrategy, RandomStringStrategy\n",
    "\n",
    "bool_strat = RandomBoolStrategy(\n",
    "    language='python',\n",
    "    use_env_var=True,\n",
    "    env_prefix='PASSATK'\n",
    ")\n",
    "\n",
    "float_strat = RandomFloatStrategy(\n",
    "    language='python',\n",
    "    use_env_var=True,\n",
    "    env_prefix='PASSATK'\n",
    ")\n",
    "\n",
    "int_strat = RandomIntegerStrategy(\n",
    "    language='python',\n",
    "    use_env_var=True,\n",
    "    env_prefix='PASSATK'\n",
    ")\n",
    "\n",
    "string_strat = RandomStringStrategy(\n",
    "    language='python',\n",
    "    use_env_var=True,\n",
    "    env_prefix='PASSATK'\n",
    ")"
   ]
  },
  {
   "cell_type": "code",
   "execution_count": 2,
   "metadata": {},
   "outputs": [],
   "source": [
    "strategies = {\n",
    "    'int': int_strat,\n",
    "    'float': float_strat,\n",
    "    'bool': bool_strat,\n",
    "    'string': string_strat\n",
    "}"
   ]
  },
  {
   "cell_type": "code",
   "execution_count": null,
   "metadata": {},
   "outputs": [],
   "source": [
    "from fuzzer_tester import FindAndReplacer\n",
    "\n",
    "find_and_replacer = FindAndReplacer(\n",
    "    language='java'\n",
    ")\n",
    "\n",
    "replaced = find_and_replacer.find_and_replace(\n",
    "    file_path='/home/ubuntu/CodeGen/BCE/PassAtKRunner/Fuzzer/test_functions/java_test_function_5/context.java'\n",
    ")\n",
    "\n",
    "print(replaced)"
   ]
  },
  {
   "cell_type": "code",
   "execution_count": 1,
   "metadata": {},
   "outputs": [
    {
     "name": "stdout",
     "output_type": "stream",
     "text": [
      "('os.environ[\"PASSATK0\"]', 'VhaPpfwexOthADtUcWwZDPEJyBlvZctJMFGfoMWK')\n"
     ]
    }
   ],
   "source": [
    "from fuzzer_tester import RandomFloatStrategy, RandomStringStrategy, RandomBoolStrategy, RandomIntegerStrategy\n",
    "\n",
    "strat = RandomStringStrategy(language='python', use_env_var=True, env_prefix='PASSATK')\n",
    "\n",
    "print(strat('int;length=40', 0))"
   ]
  },
  {
   "cell_type": "code",
   "execution_count": null,
   "metadata": {},
   "outputs": [
    {
     "ename": "",
     "evalue": "",
     "output_type": "error",
     "traceback": [
      "\u001b[1;31mRunning cells with 'testenv' requires the ipykernel package.\n",
      "\u001b[1;31mRun the following command to install 'ipykernel' into the Python environment. \n",
      "\u001b[1;31mCommand: 'conda install -n testenv ipykernel --update-deps --force-reinstall'"
     ]
    }
   ],
   "source": [
    "from fuzzer_tester import FuzzerTester\n",
    "import os\n",
    "\n",
    "for filename in os.listdir('/home/ubuntu/CodeGen/BCE/GenerateTesting/GoldenCode'):\n",
    "    results = FuzzerTester().test_functions(\n",
    "        context_path=f'/home/ubuntu/CodeGen/BCE/GenerateTesting/Context/{filename}',\n",
    "        generated_path=f'/home/ubuntu/CodeGen/BCE/GenerateTesting/GeneratedCode/{filename}',\n",
    "        golden_path=f'/home/ubuntu/CodeGen/BCE/GenerateTesting/GoldenCode/{filename}'\n",
    "    )\n",
    "\n",
    "    for item in results:\n",
    "        if not item[0]:\n",
    "            print(filename)\n",
    "            print(results)\n",
    "\n",
    "            break"
   ]
  },
  {
   "cell_type": "code",
   "execution_count": 11,
   "metadata": {},
   "outputs": [
    {
     "name": "stdout",
     "output_type": "stream",
     "text": [
      "golden program failed: Traceback (most recent call last):\n",
      "  File \"./tmp/golden_code_test/golden_code_test.py\", line 21, in <module>\n",
      "    main()\n",
      "  File \"./tmp/golden_code_test/golden_code_test.py\", line 17, in main\n",
      "    print(reduce_noise(image, int(os.environ[\"PASSATK3\"]), int(os.environ[\"PASSATK2\"]), float(os.environ[\"PASSATK1\"]), float(os.environ[\"PASSATK0\"])))\n",
      "  File \"./tmp/golden_code_test/golden_code_test.py\", line 11, in reduce_noise\n",
      "    channel_axis=channel_axis, fast_mode=True)\n",
      "TypeError: denoise_nl_means() got an unexpected keyword argument 'channel_axis'\n",
      "\n"
     ]
    }
   ],
   "source": [
    "print('golden program failed: Traceback (most recent call last):\\n  File \"./tmp/golden_code_test/golden_code_test.py\", line 21, in <module>\\n    main()\\n  File \"./tmp/golden_code_test/golden_code_test.py\", line 17, in main\\n    print(reduce_noise(image, int(os.environ[\"PASSATK3\"]), int(os.environ[\"PASSATK2\"]), float(os.environ[\"PASSATK1\"]), float(os.environ[\"PASSATK0\"])))\\n  File \"./tmp/golden_code_test/golden_code_test.py\", line 11, in reduce_noise\\n    channel_axis=channel_axis, fast_mode=True)\\nTypeError: denoise_nl_means() got an unexpected keyword argument \\'channel_axis\\'\\n')"
   ]
  },
  {
   "cell_type": "code",
   "execution_count": 17,
   "metadata": {},
   "outputs": [
    {
     "name": "stderr",
     "output_type": "stream",
     "text": [
      "  5%|▍         | 14/282 [01:27<35:38,  7.98s/it]"
     ]
    },
    {
     "name": "stdout",
     "output_type": "stream",
     "text": [
      "ba5e\n",
      "Timeout Expired\n",
      "----------------------------------------------------------------------\n"
     ]
    },
    {
     "name": "stderr",
     "output_type": "stream",
     "text": [
      "  8%|▊         | 22/282 [02:13<34:18,  7.92s/it]"
     ]
    },
    {
     "name": "stdout",
     "output_type": "stream",
     "text": [
      "smgb\n",
      "Timeout Expired\n",
      "----------------------------------------------------------------------\n"
     ]
    },
    {
     "name": "stderr",
     "output_type": "stream",
     "text": [
      " 10%|▉         | 27/282 [02:46<34:39,  8.16s/it]"
     ]
    },
    {
     "name": "stdout",
     "output_type": "stream",
     "text": [
      "ling\n",
      "Timeout Expired\n",
      "----------------------------------------------------------------------\n"
     ]
    },
    {
     "name": "stderr",
     "output_type": "stream",
     "text": [
      " 16%|█▋        | 46/282 [05:43<32:30,  8.26s/it]  "
     ]
    },
    {
     "name": "stdout",
     "output_type": "stream",
     "text": [
      "ba9m\n",
      "Timeout Expired\n",
      "----------------------------------------------------------------------\n"
     ]
    },
    {
     "name": "stderr",
     "output_type": "stream",
     "text": [
      " 22%|██▏       | 61/282 [07:27<34:05,  9.25s/it]"
     ]
    },
    {
     "name": "stdout",
     "output_type": "stream",
     "text": [
      "mgap\n",
      "Timeout Expired\n",
      "----------------------------------------------------------------------\n"
     ]
    },
    {
     "name": "stderr",
     "output_type": "stream",
     "text": [
      " 28%|██▊       | 78/282 [09:33<30:39,  9.02s/it]"
     ]
    },
    {
     "name": "stdout",
     "output_type": "stream",
     "text": [
      "3sum\n",
      "Timeout Expired\n",
      "----------------------------------------------------------------------\n"
     ]
    },
    {
     "name": "stderr",
     "output_type": "stream",
     "text": [
      " 30%|██▉       | 84/282 [10:10<26:44,  8.10s/it]"
     ]
    },
    {
     "name": "stdout",
     "output_type": "stream",
     "text": [
      "ba11g\n",
      "Timeout Expired\n",
      "----------------------------------------------------------------------\n"
     ]
    },
    {
     "name": "stderr",
     "output_type": "stream",
     "text": [
      " 40%|████      | 113/282 [13:41<23:59,  8.52s/it]"
     ]
    },
    {
     "name": "stdout",
     "output_type": "stream",
     "text": [
      "ba6e\n",
      "Timeout Expired\n",
      "----------------------------------------------------------------------\n"
     ]
    },
    {
     "name": "stderr",
     "output_type": "stream",
     "text": [
      " 51%|█████     | 144/282 [18:52<18:15,  7.94s/it]  "
     ]
    },
    {
     "name": "stdout",
     "output_type": "stream",
     "text": [
      "oap\n",
      "Timeout Expired\n",
      "----------------------------------------------------------------------\n"
     ]
    },
    {
     "name": "stderr",
     "output_type": "stream",
     "text": [
      " 70%|██████▉   | 196/282 [28:28<11:03,  7.72s/it]  "
     ]
    },
    {
     "name": "stdout",
     "output_type": "stream",
     "text": [
      "ba5l\n",
      "Timeout Expired\n",
      "----------------------------------------------------------------------\n"
     ]
    },
    {
     "name": "stderr",
     "output_type": "stream",
     "text": [
      " 81%|████████  | 229/282 [35:18<08:43,  9.87s/it]  "
     ]
    },
    {
     "name": "stdout",
     "output_type": "stream",
     "text": [
      "sptd\n",
      "Timeout Expired\n",
      "----------------------------------------------------------------------\n"
     ]
    },
    {
     "name": "stderr",
     "output_type": "stream",
     "text": [
      " 85%|████████▍ | 239/282 [36:00<02:46,  3.87s/it]"
     ]
    },
    {
     "name": "stdout",
     "output_type": "stream",
     "text": [
      "ba3g\n",
      "Traceback (most recent call last):\n",
      "\n",
      "  File \"<string>\", line 1, in <module>\n",
      "\n",
      "  File \"/home/ubuntu/CodeGen/BCE/PassAtKRunner/Fuzzer/rosalind.info/rosalind/cli.py\", line 59, in main\n",
      "    run(solve)\n",
      "\n",
      "  File \"/home/ubuntu/CodeGen/BCE/PassAtKRunner/Fuzzer/rosalind.info/rosalind/cli.py\", line 55, in solve\n",
      "    getattr(module, \"main\")(path)\n",
      "\n",
      "  File \"/home/ubuntu/CodeGen/BCE/PassAtKRunner/Fuzzer/rosalind.info/rosalind/bioinformatics_textbook_track/ba3g.py\", line 31, in main\n",
      "    path = eulerian_path(parse_edges(edges))\n",
      "\n",
      "  File \"/home/ubuntu/CodeGen/BCE/PassAtKRunner/Fuzzer/rosalind.info/rosalind/bioinformatics_textbook_track/ba3g.py\", line 24, in eulerian_path\n",
      "    cycle = eulerian_cycle(graph)[:-1]\n",
      "\n",
      "  File \"/home/ubuntu/CodeGen/BCE/PassAtKRunner/Fuzzer/rosalind.info/rosalind/bioinformatics_textbook_track/ba3f.py\", line 25, in eulerian_cycle\n",
      "    key = [x for x in cycle if x in g][0]\n",
      "\n",
      "IndexError: list index out of range\n",
      "\n",
      "\n",
      "----------------------------------------------------------------------\n"
     ]
    },
    {
     "name": "stderr",
     "output_type": "stream",
     "text": [
      " 85%|████████▌ | 240/282 [36:15<05:02,  7.21s/it]"
     ]
    },
    {
     "name": "stdout",
     "output_type": "stream",
     "text": [
      "ba2g\n",
      "Timeout Expired\n",
      "----------------------------------------------------------------------\n"
     ]
    },
    {
     "name": "stderr",
     "output_type": "stream",
     "text": [
      " 87%|████████▋ | 245/282 [38:06<13:13, 21.44s/it]"
     ]
    }
   ],
   "source": [
    "import subprocess, os\n",
    "from tqdm import tqdm\n",
    "\n",
    "class CustomException(Exception):\n",
    "    def __init__(self, message):\n",
    "        self.message = message\n",
    "\n",
    "    def __str__(self):\n",
    "        return self.message\n",
    "\n",
    "rosalind_folder = '/home/ubuntu/CodeGen/BCE/PassAtKRunner/Fuzzer/rosalind.info'\n",
    "rosalind_prompt_folder = '/home/ubuntu/CodeGen/BCE/FullBenchmark/Rosalind/Prompts'\n",
    "rosalind_testcase_folder = '/home/ubuntu/CodeGen/BCE/PassAtKRunner/Fuzzer/rosalind.info/rosalind_test_cases'\n",
    "rosalind_outputs_folder = '/home/ubuntu/CodeGen/BCE/RosalindOutputs'\n",
    "\n",
    "env_vars = {\n",
    "    'ENTREZ_EMAIL': 'bet@gmail.com'\n",
    "}\n",
    "\n",
    "run_rosalind_cmd = 'cd {} && poetry run rosalind {} {}'\n",
    "\n",
    "cnt = 0\n",
    "start = 244\n",
    "\n",
    "for filename in tqdm(os.listdir(rosalind_prompt_folder)):\n",
    "    problem_name = filename.split('.')[0]\n",
    "\n",
    "    # problem_output_path = os.path.join(rosalind_outputs_folder, problem_name)\n",
    "\n",
    "    try:\n",
    "        for test_case_num in range(10):\n",
    "            rosalind_testcase_path = os.path.join(rosalind_testcase_folder, f'test_case_{test_case_num}', f'rosalind_{problem_name}.txt')\n",
    "\n",
    "            process = subprocess.run(run_rosalind_cmd.format(rosalind_folder, problem_name, rosalind_testcase_path), shell=True, env=env_vars, stdout=subprocess.PIPE, stderr=subprocess.PIPE, timeout=15)\n",
    "\n",
    "            stdout = process.stdout\n",
    "            stderr = process.stderr\n",
    "\n",
    "            if process.returncode != 0:\n",
    "                raise CustomException(stderr.decode('utf-8'))\n",
    "\n",
    "    except CustomException as e:\n",
    "        print(problem_name)\n",
    "        print(e)\n",
    "\n",
    "        print('-' * 70)\n",
    "\n",
    "    except subprocess.TimeoutExpired:\n",
    "        print(problem_name)\n",
    "        print('Timeout Expired')\n",
    "\n",
    "        print('-' * 70)"
   ]
  },
  {
   "cell_type": "code",
   "execution_count": 1,
   "metadata": {},
   "outputs": [
    {
     "name": "stderr",
     "output_type": "stream",
     "text": [
      " 89%|████████▊ | 250/282 [01:07<00:21,  1.48it/s]"
     ]
    },
    {
     "name": "stdout",
     "output_type": "stream",
     "text": [
      "sims\n",
      "Timeout Expired\n",
      "----------------------------------------------------------------------\n"
     ]
    },
    {
     "name": "stderr",
     "output_type": "stream",
     "text": [
      " 93%|█████████▎| 262/282 [04:27<10:42, 32.11s/it]"
     ]
    },
    {
     "name": "stdout",
     "output_type": "stream",
     "text": [
      "mprt\n",
      "Timeout Expired\n",
      "----------------------------------------------------------------------\n"
     ]
    },
    {
     "name": "stderr",
     "output_type": "stream",
     "text": [
      " 96%|█████████▌| 270/282 [05:13<01:53,  9.50s/it]"
     ]
    },
    {
     "name": "stdout",
     "output_type": "stream",
     "text": [
      "ba5h\n",
      "Timeout Expired\n",
      "----------------------------------------------------------------------\n"
     ]
    },
    {
     "name": "stderr",
     "output_type": "stream",
     "text": [
      " 97%|█████████▋| 274/282 [05:41<01:10,  8.87s/it]"
     ]
    },
    {
     "name": "stdout",
     "output_type": "stream",
     "text": [
      "ba2f\n",
      "Timeout Expired\n",
      "----------------------------------------------------------------------\n"
     ]
    },
    {
     "name": "stderr",
     "output_type": "stream",
     "text": [
      " 99%|█████████▊| 278/282 [06:25<00:43, 10.83s/it]"
     ]
    },
    {
     "name": "stdout",
     "output_type": "stream",
     "text": [
      "ba5g\n",
      "Timeout Expired\n",
      "----------------------------------------------------------------------\n"
     ]
    },
    {
     "name": "stderr",
     "output_type": "stream",
     "text": [
      "100%|██████████| 282/282 [06:43<00:00,  1.43s/it]\n"
     ]
    }
   ],
   "source": [
    "import subprocess, os\n",
    "from tqdm import tqdm\n",
    "\n",
    "class CustomException(Exception):\n",
    "    def __init__(self, message):\n",
    "        self.message = message\n",
    "\n",
    "    def __str__(self):\n",
    "        return self.message\n",
    "\n",
    "rosalind_folder = '/home/ubuntu/CodeGen/BCE/PassAtKRunner/Fuzzer/rosalind.info'\n",
    "rosalind_prompt_folder = '/home/ubuntu/CodeGen/BCE/FullBenchmark/Rosalind/Prompts'\n",
    "rosalind_testcase_folder = '/home/ubuntu/CodeGen/BCE/PassAtKRunner/Fuzzer/rosalind.info/rosalind_test_cases'\n",
    "rosalind_outputs_folder = '/home/ubuntu/CodeGen/BCE/RosalindOutputs'\n",
    "\n",
    "env_vars = {\n",
    "    'ENTREZ_EMAIL': 'bet@gmail.com'\n",
    "}\n",
    "\n",
    "run_rosalind_cmd = 'cd {} && poetry run rosalind {} {}'\n",
    "\n",
    "cnt = 0\n",
    "start = 244\n",
    "\n",
    "for filename in tqdm(os.listdir(rosalind_prompt_folder)):\n",
    "    if cnt < start:\n",
    "        cnt += 1\n",
    "        continue\n",
    "\n",
    "    problem_name = filename.split('.')[0]\n",
    "\n",
    "    # problem_output_path = os.path.join(rosalind_outputs_folder, problem_name)\n",
    "\n",
    "    try:\n",
    "        for test_case_num in range(10):\n",
    "            rosalind_testcase_path = os.path.join(rosalind_testcase_folder, f'test_case_{test_case_num}', f'rosalind_{problem_name}.txt')\n",
    "\n",
    "            process = subprocess.run(run_rosalind_cmd.format(rosalind_folder, problem_name, rosalind_testcase_path), shell=True, env=env_vars, stdout=subprocess.PIPE, stderr=subprocess.PIPE, timeout=15)\n",
    "\n",
    "            stdout = process.stdout\n",
    "            stderr = process.stderr\n",
    "\n",
    "            if process.returncode != 0:\n",
    "                raise CustomException(stderr.decode('utf-8'))\n",
    "\n",
    "    except CustomException as e:\n",
    "        print(problem_name)\n",
    "        print(e)\n",
    "\n",
    "        print('-' * 70)\n",
    "\n",
    "    except subprocess.TimeoutExpired:\n",
    "        print(problem_name)\n",
    "        print('Timeout Expired')\n",
    "\n",
    "        print('-' * 70)\n",
    "\n",
    "    finally:\n",
    "        cnt += 1"
   ]
  },
  {
   "cell_type": "code",
   "execution_count": 2,
   "metadata": {},
   "outputs": [
    {
     "name": "stderr",
     "output_type": "stream",
     "text": [
      "100%|██████████| 253/253 [37:20<00:00,  8.86s/it]  \n"
     ]
    }
   ],
   "source": [
    "import subprocess, os\n",
    "from tqdm import tqdm\n",
    "\n",
    "class CustomException(Exception):\n",
    "    def __init__(self, message):\n",
    "        self.message = message\n",
    "\n",
    "    def __str__(self):\n",
    "        return self.message\n",
    "\n",
    "rosalind_folder = '/home/ubuntu/CodeGen/BCE/PassAtKRunner/Fuzzer/rosalind.info'\n",
    "rosalind_prompt_folder = '/home/ubuntu/CodeGen/BCE/FullBenchmark/Rosalind/Prompts'\n",
    "rosalind_testcase_folder = '/home/ubuntu/CodeGen/BCE/PassAtKRunner/Fuzzer/rosalind.info/rosalind_test_cases'\n",
    "rosalind_outputs_folder = '/home/ubuntu/CodeGen/BCE/RosalindOutputs'\n",
    "\n",
    "env_vars = {\n",
    "    'ENTREZ_EMAIL': 'bet@gmail.com'\n",
    "}\n",
    "\n",
    "run_rosalind_cmd = 'cd {} && poetry run rosalind {} {}'\n",
    "\n",
    "for filename in tqdm(os.listdir(rosalind_prompt_folder)):\n",
    "\n",
    "    problem_name = filename.split('.')[0]\n",
    "\n",
    "    problem_output_path = os.path.join(rosalind_outputs_folder, problem_name)\n",
    "\n",
    "    if not os.path.isdir(problem_output_path):\n",
    "        os.makedirs(problem_output_path)\n",
    "\n",
    "    try:\n",
    "        for test_case_num in range(10):\n",
    "            rosalind_testcase_path = os.path.join(rosalind_testcase_folder, f'test_case_{test_case_num}', f'rosalind_{problem_name}.txt')\n",
    "\n",
    "            process = subprocess.run(run_rosalind_cmd.format(rosalind_folder, problem_name, rosalind_testcase_path), shell=True, env=env_vars, stdout=subprocess.PIPE, stderr=subprocess.PIPE, timeout=15)\n",
    "\n",
    "            stdout = process.stdout\n",
    "            stderr = process.stderr\n",
    "\n",
    "            if process.returncode != 0:\n",
    "                raise CustomException(stderr.decode('utf-8'))\n",
    "            else:\n",
    "                test_case_filepath = os.path.join(problem_output_path, f'{test_case_num}.txt')\n",
    "\n",
    "                with open(test_case_filepath, 'w') as f:\n",
    "                    f.write(stdout.decode('utf-8'))\n",
    "\n",
    "    except CustomException as e:\n",
    "        print(problem_name)\n",
    "        print(e)\n",
    "\n",
    "        print('-' * 70)\n",
    "\n",
    "    except subprocess.TimeoutExpired:\n",
    "        print(problem_name)\n",
    "        print('Timeout Expired')\n",
    "\n",
    "        print('-' * 70)"
   ]
  },
  {
   "cell_type": "code",
   "execution_count": 4,
   "metadata": {},
   "outputs": [
    {
     "data": {
      "text/plain": [
       "[(False,\n",
       "  'runtime',\n",
       "  'generated program failed: Traceback (most recent call last):\\n  File \"/home/ubuntu/CodeGen/BCE/PassAtKRunner/Fuzzer/tmp/generated.py\", line 23, in <module>\\n    main()\\n  File \"/home/ubuntu/CodeGen/BCE/PassAtKRunner/Fuzzer/tmp/generated.py\", line 19, in main\\n    output = solve(f.read())\\n  File \"/home/ubuntu/CodeGen/BCE/PassAtKRunner/Fuzzer/tmp/generated.py\", line 14, in solve\\n    return 5 / 0\\nZeroDivisionError: division by zero\\n'),\n",
       " (False,\n",
       "  'runtime',\n",
       "  'generated program failed: Traceback (most recent call last):\\n  File \"/home/ubuntu/CodeGen/BCE/PassAtKRunner/Fuzzer/tmp/generated.py\", line 23, in <module>\\n    main()\\n  File \"/home/ubuntu/CodeGen/BCE/PassAtKRunner/Fuzzer/tmp/generated.py\", line 19, in main\\n    output = solve(f.read())\\n  File \"/home/ubuntu/CodeGen/BCE/PassAtKRunner/Fuzzer/tmp/generated.py\", line 14, in solve\\n    return 5 / 0\\nZeroDivisionError: division by zero\\n'),\n",
       " (False,\n",
       "  'runtime',\n",
       "  'generated program failed: Traceback (most recent call last):\\n  File \"/home/ubuntu/CodeGen/BCE/PassAtKRunner/Fuzzer/tmp/generated.py\", line 23, in <module>\\n    main()\\n  File \"/home/ubuntu/CodeGen/BCE/PassAtKRunner/Fuzzer/tmp/generated.py\", line 19, in main\\n    output = solve(f.read())\\n  File \"/home/ubuntu/CodeGen/BCE/PassAtKRunner/Fuzzer/tmp/generated.py\", line 14, in solve\\n    return 5 / 0\\nZeroDivisionError: division by zero\\n'),\n",
       " (False,\n",
       "  'runtime',\n",
       "  'generated program failed: Traceback (most recent call last):\\n  File \"/home/ubuntu/CodeGen/BCE/PassAtKRunner/Fuzzer/tmp/generated.py\", line 23, in <module>\\n    main()\\n  File \"/home/ubuntu/CodeGen/BCE/PassAtKRunner/Fuzzer/tmp/generated.py\", line 19, in main\\n    output = solve(f.read())\\n  File \"/home/ubuntu/CodeGen/BCE/PassAtKRunner/Fuzzer/tmp/generated.py\", line 14, in solve\\n    return 5 / 0\\nZeroDivisionError: division by zero\\n'),\n",
       " (False,\n",
       "  'runtime',\n",
       "  'generated program failed: Traceback (most recent call last):\\n  File \"/home/ubuntu/CodeGen/BCE/PassAtKRunner/Fuzzer/tmp/generated.py\", line 23, in <module>\\n    main()\\n  File \"/home/ubuntu/CodeGen/BCE/PassAtKRunner/Fuzzer/tmp/generated.py\", line 19, in main\\n    output = solve(f.read())\\n  File \"/home/ubuntu/CodeGen/BCE/PassAtKRunner/Fuzzer/tmp/generated.py\", line 14, in solve\\n    return 5 / 0\\nZeroDivisionError: division by zero\\n'),\n",
       " (False,\n",
       "  'runtime',\n",
       "  'generated program failed: Traceback (most recent call last):\\n  File \"/home/ubuntu/CodeGen/BCE/PassAtKRunner/Fuzzer/tmp/generated.py\", line 23, in <module>\\n    main()\\n  File \"/home/ubuntu/CodeGen/BCE/PassAtKRunner/Fuzzer/tmp/generated.py\", line 19, in main\\n    output = solve(f.read())\\n  File \"/home/ubuntu/CodeGen/BCE/PassAtKRunner/Fuzzer/tmp/generated.py\", line 14, in solve\\n    return 5 / 0\\nZeroDivisionError: division by zero\\n'),\n",
       " (False,\n",
       "  'runtime',\n",
       "  'generated program failed: Traceback (most recent call last):\\n  File \"/home/ubuntu/CodeGen/BCE/PassAtKRunner/Fuzzer/tmp/generated.py\", line 23, in <module>\\n    main()\\n  File \"/home/ubuntu/CodeGen/BCE/PassAtKRunner/Fuzzer/tmp/generated.py\", line 19, in main\\n    output = solve(f.read())\\n  File \"/home/ubuntu/CodeGen/BCE/PassAtKRunner/Fuzzer/tmp/generated.py\", line 14, in solve\\n    return 5 / 0\\nZeroDivisionError: division by zero\\n'),\n",
       " (False,\n",
       "  'runtime',\n",
       "  'generated program failed: Traceback (most recent call last):\\n  File \"/home/ubuntu/CodeGen/BCE/PassAtKRunner/Fuzzer/tmp/generated.py\", line 23, in <module>\\n    main()\\n  File \"/home/ubuntu/CodeGen/BCE/PassAtKRunner/Fuzzer/tmp/generated.py\", line 19, in main\\n    output = solve(f.read())\\n  File \"/home/ubuntu/CodeGen/BCE/PassAtKRunner/Fuzzer/tmp/generated.py\", line 14, in solve\\n    return 5 / 0\\nZeroDivisionError: division by zero\\n'),\n",
       " (False,\n",
       "  'runtime',\n",
       "  'generated program failed: Traceback (most recent call last):\\n  File \"/home/ubuntu/CodeGen/BCE/PassAtKRunner/Fuzzer/tmp/generated.py\", line 23, in <module>\\n    main()\\n  File \"/home/ubuntu/CodeGen/BCE/PassAtKRunner/Fuzzer/tmp/generated.py\", line 19, in main\\n    output = solve(f.read())\\n  File \"/home/ubuntu/CodeGen/BCE/PassAtKRunner/Fuzzer/tmp/generated.py\", line 14, in solve\\n    return 5 / 0\\nZeroDivisionError: division by zero\\n'),\n",
       " (False,\n",
       "  'runtime',\n",
       "  'generated program failed: Traceback (most recent call last):\\n  File \"/home/ubuntu/CodeGen/BCE/PassAtKRunner/Fuzzer/tmp/generated.py\", line 23, in <module>\\n    main()\\n  File \"/home/ubuntu/CodeGen/BCE/PassAtKRunner/Fuzzer/tmp/generated.py\", line 19, in main\\n    output = solve(f.read())\\n  File \"/home/ubuntu/CodeGen/BCE/PassAtKRunner/Fuzzer/tmp/generated.py\", line 14, in solve\\n    return 5 / 0\\nZeroDivisionError: division by zero\\n')]"
      ]
     },
     "execution_count": 4,
     "metadata": {},
     "output_type": "execute_result"
    }
   ],
   "source": [
    "from fuzzer_tester import FuzzerTester\n",
    "\n",
    "FuzzerTester().rosalind_test(\n",
    "    problem_name='ba1a',\n",
    "    context_path='/home/ubuntu/CodeGen/BCE/FullBenchmark/Rosalind/Context/ba1a.py',\n",
    "    generated_code_path='./ba1a.py'\n",
    ")"
   ]
  },
  {
   "cell_type": "code",
   "execution_count": 13,
   "metadata": {},
   "outputs": [
    {
     "name": "stdout",
     "output_type": "stream",
     "text": [
      "Average number of global vars (public): 13.4\n"
     ]
    }
   ],
   "source": [
    "### GET GLOBAL VARIABLES PUBLIC ###\n",
    "\n",
    "import os\n",
    "\n",
    "public_size = 157\n",
    "\n",
    "python_prompts_path = '/home/ubuntu/CodeGen/BCE/FullBenchmark/Python/Prompts'\n",
    "\n",
    "public_cnt = 0\n",
    "\n",
    "for filename in os.listdir(python_prompts_path):\n",
    "    filepath = os.path.join(python_prompts_path, filename)\n",
    "\n",
    "    with open(filepath, 'r') as f:\n",
    "        prompt = f.read()\n",
    "\n",
    "    start = prompt.find('Here are the global variables:') + 30\n",
    "\n",
    "    end = prompt.find('Here are the class declarations:')\n",
    "\n",
    "    prompt = prompt[start:end]\n",
    "\n",
    "    for line in prompt.split('\\n'):\n",
    "        if ' = ' in line:\n",
    "            public_cnt += 1\n",
    "\n",
    "print(f'Average number of global vars (public): {(public_cnt / public_size):.1f}')"
   ]
  },
  {
   "cell_type": "code",
   "execution_count": 11,
   "metadata": {},
   "outputs": [
    {
     "name": "stdout",
     "output_type": "stream",
     "text": [
      "889\n"
     ]
    }
   ],
   "source": [
    "import pandas as pd\n",
    "\n",
    "len('Here are the global variables:')\n",
    "\n",
    "df = pd.read_json('/home/ubuntu/CodeGen/BCE/Statistics/HiddenData/python_f.json')\n",
    "\n",
    "print(len(df))"
   ]
  },
  {
   "cell_type": "code",
   "execution_count": 14,
   "metadata": {},
   "outputs": [
    {
     "name": "stdout",
     "output_type": "stream",
     "text": [
      "Average number of global vars (hidden): 8.7\n"
     ]
    }
   ],
   "source": [
    "### GET GLOBAL VARIABLES PUBLIC ###\n",
    "\n",
    "import os\n",
    "import pandas as pd\n",
    "\n",
    "hidden_size = 889\n",
    "\n",
    "python_prompts_path = '/home/ubuntu/CodeGen/BCE/FileStructure/Python/Prompts'\n",
    "\n",
    "hidden_cnt = 0\n",
    "\n",
    "for index, row in df.iterrows():\n",
    "    filepath = os.path.join(python_prompts_path, f'{index}.txt')\n",
    "\n",
    "    with open(filepath, 'r') as f:\n",
    "        prompt = f.read()\n",
    "\n",
    "    start = prompt.find('Here are the global variables:') + 30\n",
    "\n",
    "    end = prompt.find('Here are the class declarations:')\n",
    "\n",
    "    prompt = prompt[start:end]\n",
    "\n",
    "    for line in prompt.split('\\n'):\n",
    "        if '=' in line:\n",
    "            hidden_cnt += 1\n",
    "\n",
    "print(f'Average number of global vars (hidden): {(hidden_cnt / hidden_size):.1f}')"
   ]
  },
  {
   "cell_type": "code",
   "execution_count": null,
   "metadata": {},
   "outputs": [],
   "source": []
  }
 ],
 "metadata": {
  "kernelspec": {
   "display_name": "venv",
   "language": "python",
   "name": "python3"
  },
  "language_info": {
   "codemirror_mode": {
    "name": "ipython",
    "version": 3
   },
   "file_extension": ".py",
   "mimetype": "text/x-python",
   "name": "python",
   "nbconvert_exporter": "python",
   "pygments_lexer": "ipython3",
   "version": "3.10.6"
  },
  "orig_nbformat": 4,
  "vscode": {
   "interpreter": {
    "hash": "9b672c9389238a9ffb5ee1758d18c8ffbf737bb80d79b3a7488d1e5058fdac62"
   }
  }
 },
 "nbformat": 4,
 "nbformat_minor": 2
}
