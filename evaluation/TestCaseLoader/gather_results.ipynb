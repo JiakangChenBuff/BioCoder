{
 "cells": [
  {
   "cell_type": "code",
   "execution_count": 1,
   "metadata": {
    "ExecuteTime": {
     "end_time": "2023-06-14T13:15:41.076084Z",
     "start_time": "2023-06-14T13:15:36.734044Z"
    }
   },
   "outputs": [],
   "source": [
    "import pandas as pd\n",
    "import requests\n",
    "import json\n",
    "import numpy as np\n",
    "import copy\n",
    "\n",
    "r = requests.get(\"http://gersteincodegenprod.s3.amazonaws.com/results-default.json\")\n",
    "\n",
    "data = json.loads(r.text)"
   ]
  },
  {
   "cell_type": "code",
   "execution_count": 2,
   "metadata": {
    "ExecuteTime": {
     "end_time": "2023-06-14T13:15:45.246045Z",
     "start_time": "2023-06-14T13:15:44.035026Z"
    }
   },
   "outputs": [],
   "source": [
    "backup = copy.deepcopy(data)"
   ]
  },
  {
   "cell_type": "code",
   "execution_count": 3,
   "metadata": {
    "ExecuteTime": {
     "end_time": "2023-06-14T13:15:47.608482Z",
     "start_time": "2023-06-14T13:15:46.304101Z"
    }
   },
   "outputs": [
    {
     "name": "stdout",
     "output_type": "stream",
     "text": [
      "Number of test cases: 19696\n"
     ]
    }
   ],
   "source": [
    "data = copy.deepcopy(backup)\n",
    "data = [x for x in data if \"starcoder-\" in x[\"test_case_id\"]]\n",
    "# data = [x for x in data if \"Python\" in x[\"test_case_id\"]]\n",
    "# data = [x for x in data if \"-NoCommentPrompts-\" in x[\"test_case_id\"]]\n",
    "print(\"Number of test cases:\", len(data))"
   ]
  },
  {
   "cell_type": "code",
   "execution_count": 4,
   "metadata": {
    "ExecuteTime": {
     "end_time": "2023-06-14T14:17:15.234254Z",
     "start_time": "2023-06-14T14:17:15.213860Z"
    },
    "collapsed": false
   },
   "outputs": [
    {
     "data": {
      "text/plain": [
       "{'test_case_id': 'starcoder-v1-Java-Prompts-36e5e6a5cf9d5649542d15cb6caf3ba675c43fc7cc5d286fdf552f0798127c77-19',\n",
       " 'res': False,\n",
       " 'finished': True,\n",
       " 'body': {'test_case_repo': 'lilbillybiscuit/323tester',\n",
       "  'file': '36e5e6a5cf9d5649542d15cb6caf3ba675c43fc7cc5d286fdf552f0798127c77.java',\n",
       "  'filePath': 'none',\n",
       "  'lineStart': 0,\n",
       "  'lineEnd': 0,\n",
       "  'test_case_id': 'starcoder-v1-Java-Prompts-36e5e6a5cf9d5649542d15cb6caf3ba675c43fc7cc5d286fdf552f0798127c77-19',\n",
       "  'methodBody': 'none',\n",
       "  'num_tests': 50,\n",
       "  'random_stringadasd': 'm9st4Pb2t5FhqeY1E+/FfHB/vsAIYWKaOZpUwnlgbbw='}}"
      ]
     },
     "execution_count": 4,
     "metadata": {},
     "output_type": "execute_result"
    }
   ],
   "source": [
    "data[0]"
   ]
  },
  {
   "cell_type": "code",
   "execution_count": 5,
   "metadata": {
    "ExecuteTime": {
     "end_time": "2023-06-14T13:15:49.336544Z",
     "start_time": "2023-06-14T13:15:49.333500Z"
    }
   },
   "outputs": [],
   "source": [
    "prompt_types = [\"-Prompts-\", \"-NoCommentPrompts-\", \"-AnnotationPrompts-\", \"-ReorderedPrompts-\", \"-SmallPrompts\"]\n",
    "models = [\"gpt\", \"codegen-6B-mono\", \"codegen2-7B\", \"starcoder-\", \"starcoderplus\", \"instructcodet5p\", \"santacoder\", \"incoder-6B\"]\n",
    "languages = [\"Java\", \"Python\"]"
   ]
  },
  {
   "cell_type": "code",
   "execution_count": 6,
   "metadata": {
    "ExecuteTime": {
     "end_time": "2023-06-14T13:17:30.343001Z",
     "start_time": "2023-06-14T13:15:50.856347Z"
    }
   },
   "outputs": [
    {
     "name": "stdout",
     "output_type": "stream",
     "text": [
      "gpt -Prompts- Java Number of test cases: 998\n",
      "gpt -Prompts- Python Number of test cases: 3140\n",
      "gpt -NoCommentPrompts- Java Number of test cases: 1000\n",
      "gpt -NoCommentPrompts- Python Number of test cases: 3140\n",
      "gpt -AnnotationPrompts- Java Number of test cases: 1000\n",
      "gpt -AnnotationPrompts- Python Number of test cases: 3140\n",
      "gpt -ReorderedPrompts- Java Number of test cases: 0\n",
      "gpt -ReorderedPrompts- Python Number of test cases: 3140\n",
      "gpt -SmallPrompts Java Number of test cases: 996\n",
      "gpt -SmallPrompts Python Number of test cases: 3140\n",
      "codegen-6B-mono -Prompts- Java Number of test cases: 1000\n",
      "codegen-6B-mono -Prompts- Python Number of test cases: 3140\n",
      "codegen-6B-mono -NoCommentPrompts- Java Number of test cases: 1000\n",
      "codegen-6B-mono -NoCommentPrompts- Python Number of test cases: 3140\n",
      "codegen-6B-mono -AnnotationPrompts- Java Number of test cases: 1000\n",
      "codegen-6B-mono -AnnotationPrompts- Python Number of test cases: 3140\n",
      "codegen-6B-mono -ReorderedPrompts- Java Number of test cases: 0\n",
      "codegen-6B-mono -ReorderedPrompts- Python Number of test cases: 3140\n",
      "codegen-6B-mono -SmallPrompts Java Number of test cases: 1000\n",
      "codegen-6B-mono -SmallPrompts Python Number of test cases: 3140\n",
      "codegen2-7B -Prompts- Java Number of test cases: 1000\n",
      "codegen2-7B -Prompts- Python Number of test cases: 3140\n",
      "codegen2-7B -NoCommentPrompts- Java Number of test cases: 1000\n",
      "codegen2-7B -NoCommentPrompts- Python Number of test cases: 3140\n",
      "codegen2-7B -AnnotationPrompts- Java Number of test cases: 1000\n",
      "codegen2-7B -AnnotationPrompts- Python Number of test cases: 3138\n",
      "codegen2-7B -ReorderedPrompts- Java Number of test cases: 0\n",
      "codegen2-7B -ReorderedPrompts- Python Number of test cases: 3140\n",
      "codegen2-7B -SmallPrompts Java Number of test cases: 1000\n",
      "codegen2-7B -SmallPrompts Python Number of test cases: 3140\n",
      "starcoder- -Prompts- Java Number of test cases: 1000\n",
      "starcoder- -Prompts- Python Number of test cases: 3139\n",
      "starcoder- -NoCommentPrompts- Java Number of test cases: 1000\n",
      "starcoder- -NoCommentPrompts- Python Number of test cases: 3140\n",
      "starcoder- -AnnotationPrompts- Java Number of test cases: 1000\n",
      "starcoder- -AnnotationPrompts- Python Number of test cases: 3139\n",
      "starcoder- -ReorderedPrompts- Java Number of test cases: 0\n",
      "starcoder- -ReorderedPrompts- Python Number of test cases: 3138\n",
      "starcoder- -SmallPrompts Java Number of test cases: 1000\n",
      "starcoder- -SmallPrompts Python Number of test cases: 3140\n",
      "starcoderplus -Prompts- Java Number of test cases: 1000\n",
      "starcoderplus -Prompts- Python Number of test cases: 3139\n",
      "starcoderplus -NoCommentPrompts- Java Number of test cases: 1000\n",
      "starcoderplus -NoCommentPrompts- Python Number of test cases: 3140\n",
      "starcoderplus -AnnotationPrompts- Java Number of test cases: 1000\n",
      "starcoderplus -AnnotationPrompts- Python Number of test cases: 3138\n",
      "starcoderplus -ReorderedPrompts- Java Number of test cases: 0\n",
      "starcoderplus -ReorderedPrompts- Python Number of test cases: 3140\n",
      "starcoderplus -SmallPrompts Java Number of test cases: 1000\n",
      "starcoderplus -SmallPrompts Python Number of test cases: 3140\n",
      "instructcodet5p -Prompts- Java Number of test cases: 1000\n",
      "instructcodet5p -Prompts- Python Number of test cases: 3140\n",
      "instructcodet5p -NoCommentPrompts- Java Number of test cases: 1000\n",
      "instructcodet5p -NoCommentPrompts- Python Number of test cases: 3140\n",
      "instructcodet5p -AnnotationPrompts- Java Number of test cases: 1000\n",
      "instructcodet5p -AnnotationPrompts- Python Number of test cases: 3140\n",
      "instructcodet5p -ReorderedPrompts- Java Number of test cases: 0\n",
      "instructcodet5p -ReorderedPrompts- Python Number of test cases: 3140\n",
      "instructcodet5p -SmallPrompts Java Number of test cases: 1000\n",
      "instructcodet5p -SmallPrompts Python Number of test cases: 3140\n",
      "santacoder -Prompts- Java Number of test cases: 1000\n",
      "santacoder -Prompts- Python Number of test cases: 3140\n",
      "santacoder -NoCommentPrompts- Java Number of test cases: 1000\n",
      "santacoder -NoCommentPrompts- Python Number of test cases: 3140\n",
      "santacoder -AnnotationPrompts- Java Number of test cases: 1000\n",
      "santacoder -AnnotationPrompts- Python Number of test cases: 3136\n",
      "santacoder -ReorderedPrompts- Java Number of test cases: 0\n",
      "santacoder -ReorderedPrompts- Python Number of test cases: 3140\n",
      "santacoder -SmallPrompts Java Number of test cases: 1000\n",
      "santacoder -SmallPrompts Python Number of test cases: 3140\n",
      "incoder-6B -Prompts- Java Number of test cases: 1000\n",
      "incoder-6B -Prompts- Python Number of test cases: 3140\n",
      "incoder-6B -NoCommentPrompts- Java Number of test cases: 1000\n",
      "incoder-6B -NoCommentPrompts- Python Number of test cases: 3139\n",
      "incoder-6B -AnnotationPrompts- Java Number of test cases: 1000\n",
      "incoder-6B -AnnotationPrompts- Python Number of test cases: 3138\n",
      "incoder-6B -ReorderedPrompts- Java Number of test cases: 0\n",
      "incoder-6B -ReorderedPrompts- Python Number of test cases: 3138\n",
      "incoder-6B -SmallPrompts Java Number of test cases: 1000\n",
      "incoder-6B -SmallPrompts Python Number of test cases: 3140\n"
     ]
    }
   ],
   "source": [
    "def test_model(model_name, prompt_type, language):\n",
    "    data = copy.deepcopy(backup)\n",
    "    data = [x for x in data if model_name in x[\"test_case_id\"]]\n",
    "    data = [x for x in data if prompt_type in x[\"test_case_id\"]]\n",
    "    data = [x for x in data if language in x[\"test_case_id\"]]\n",
    "    \n",
    "    print(model_name, prompt_type, language, \"Number of test cases:\", len(data))\n",
    "\n",
    "for model in models:\n",
    "    for prompt_type in prompt_types:\n",
    "        for language in languages:\n",
    "            test_model(model, prompt_type, language)"
   ]
  },
  {
   "cell_type": "code",
   "execution_count": 7,
   "metadata": {
    "ExecuteTime": {
     "end_time": "2023-06-14T13:48:50.554033Z",
     "start_time": "2023-06-14T13:48:50.548579Z"
    }
   },
   "outputs": [],
   "source": [
    "# get all objects that have \"incoder\" in the \"test_case_id\"\n",
    "def get_passk(model_name, prompt_type, language):\n",
    "    data = copy.deepcopy(backup)\n",
    "    data = [x for x in data if model_name in x[\"test_case_id\"]]\n",
    "    data = [x for x in data if prompt_type in x[\"test_case_id\"]]\n",
    "    data = [x for x in data if language in x[\"test_case_id\"]]\n",
    "\n",
    "    # group\n",
    "    arr = {}\n",
    "\n",
    "    for x in data:\n",
    "        id = x[\"test_case_id\"].split(\"-\")[-2]\n",
    "        if id not in arr:\n",
    "            arr[id] = []\n",
    "        arr[id].append(x)\n",
    "\n",
    "    results = {}\n",
    "    for key in arr:\n",
    "        # count the number of correct, and total elements\n",
    "        correct = 0\n",
    "        total = 0\n",
    "        for x in arr[key]:\n",
    "            if x[\"res\"] == True:\n",
    "                correct += 1\n",
    "            total += 1\n",
    "        results[key] = {\"correct\": correct, \"total\": total}\n",
    "\n",
    "    # print(\"Number of functions: \", len(results))\n",
    "\n",
    "    ks=[1,5,10,20]\n",
    "\n",
    "    def pass_at_k(n, c, k):\n",
    "        if n - c < k: return 1.0\n",
    "        return 1.0 - np.prod(1.0 - k / np.arange(n - c + 1, n + 1))\n",
    "\n",
    "    k_results = []\n",
    "    for k in ks:\n",
    "        # print(\"k\", k)\n",
    "        temp = []\n",
    "        for key in results:\n",
    "            correct = results[key][\"correct\"]\n",
    "            total = results[key][\"total\"]\n",
    "            k = min(k, total)\n",
    "            temp.append(pass_at_k(total, correct, k))\n",
    "        k_results.append(np.mean(temp))\n",
    "    return k_results\n",
    "\n"
   ]
  },
  {
   "cell_type": "code",
   "execution_count": 8,
   "metadata": {
    "ExecuteTime": {
     "end_time": "2023-06-14T13:53:35.006832Z",
     "start_time": "2023-06-14T13:51:52.416260Z"
    }
   },
   "outputs": [
    {
     "name": "stdout",
     "output_type": "stream",
     "text": [
      "\\multirow{5}{*}{InCoder} & \\textit{Summary at top} & 0.000% & 0.000% & 0.000% & 0.000% & 0.828% & 2.016% & 3.006% & 4.459% \\\\\n",
      " & \\textit{Uncommented} & 0.000% & 0.000% & 0.000% & 0.000% & 0.032% & 0.159% & 0.318% & 0.637% \\\\\n",
      " & \\textit{Summary Only} & 0.000% & 0.000% & 0.000% & 0.000% & 1.688% & 5.320% & 8.332% & 12.006% \\\\\n"
     ]
    },
    {
     "name": "stderr",
     "output_type": "stream",
     "text": [
      "/home/ubuntu/.local/lib/python3.10/site-packages/numpy/core/fromnumeric.py:3464: RuntimeWarning: Mean of empty slice.\n",
      "  return _methods._mean(a, axis=axis, dtype=dtype,\n",
      "/home/ubuntu/.local/lib/python3.10/site-packages/numpy/core/_methods.py:192: RuntimeWarning: invalid value encountered in scalar divide\n",
      "  ret = ret.dtype.type(ret / rcount)\n"
     ]
    },
    {
     "name": "stdout",
     "output_type": "stream",
     "text": [
      " & \\textit{Summary at bottom} & nan% & nan% & nan% & nan% & 0.610% & 2.587% & 4.303% & 6.274% \\\\\n",
      " & \\textit{Necessary Only} & 0.000% & 0.000% & 0.000% & 0.000% & 0.032% & 0.159% & 0.318% & 0.637% \\\\\n",
      "\\midrule\n",
      "\\multirow{5}{*}{SantaCoder} & \\textit{Summary at top} & 0.000% & 0.000% & 0.000% & 0.000% & 0.637% & 1.338% & 1.844% & 2.548% \\\\\n",
      " & \\textit{Uncommented} & 0.000% & 0.000% & 0.000% & 0.000% & 0.287% & 0.764% & 0.955% & 1.274% \\\\\n",
      " & \\textit{Summary Only} & 0.000% & 0.000% & 0.000% & 0.000% & 2.965% & 9.848% & 14.227% & 18.181% \\\\\n",
      " & \\textit{Summary at bottom} & nan% & nan% & nan% & nan% & 0.510% & 1.949% & 3.013% & 4.459% \\\\\n",
      " & \\textit{Necessary Only} & 0.000% & 0.000% & 0.000% & 0.000% & 0.032% & 0.159% & 0.318% & 0.637% \\\\\n",
      "\\midrule\n",
      "\\multirow{5}{*}{StarCoder} & \\textit{Summary at top} & 0.000% & 0.000% & 0.000% & 0.000% & 3.694% & 13.197% & 19.359% & 24.554% \\\\\n",
      " & \\textit{Uncommented} & 0.000% & 0.000% & 0.000% & 0.000% & 0.318% & 1.062% & 1.591% & 2.548% \\\\\n",
      " & \\textit{Summary Only} & 0.000% & 0.000% & 0.000% & 0.000% & 4.682% & 15.225% & 21.200% & 27.166% \\\\\n",
      " & \\textit{Summary at bottom} & nan% & nan% & nan% & nan% & 6.465% & 13.824% & 16.746% & 19.076% \\\\\n",
      " & \\textit{Necessary Only} & 0.000% & 0.000% & 0.000% & 0.000% & 0.127% & 0.603% & 1.123% & 1.911% \\\\\n",
      "\\midrule\n",
      "\\multirow{5}{*}{StarCoder+} & \\textit{Summary at top} & 0.000% & 0.000% & 0.000% & 0.000% & 2.675% & 9.133% & 14.019% & 19.650% \\\\\n",
      " & \\textit{Uncommented} & 0.000% & 0.000% & 0.000% & 0.000% & 0.510% & 0.955% & 1.274% & 1.911% \\\\\n",
      " & \\textit{Summary Only} & 1.300% & 5.031% & 8.042% & 12.000% & 2.548% & 8.279% & 12.864% & 18.057% \\\\\n",
      " & \\textit{Summary at bottom} & nan% & nan% & nan% & nan% & 4.172% & 11.772% & 14.933% & 17.197% \\\\\n",
      " & \\textit{Necessary Only} & 0.000% & 0.000% & 0.000% & 0.000% & 0.127% & 0.457% & 0.609% & 0.637% \\\\\n",
      "\\midrule\n",
      "\\multirow{5}{*}{InstructCodeT5+} & \\textit{Summary at top} & 0.000% & 0.000% & 0.000% & 0.000% & 0.000% & 0.000% & 0.000% & 0.000% \\\\\n",
      " & \\textit{Uncommented} & 0.000% & 0.000% & 0.000% & 0.000% & 0.000% & 0.000% & 0.000% & 0.000% \\\\\n",
      " & \\textit{Summary Only} & 0.000% & 0.000% & 0.000% & 0.000% & 0.000% & 0.000% & 0.000% & 0.000% \\\\\n",
      " & \\textit{Summary at bottom} & nan% & nan% & nan% & nan% & 0.000% & 0.000% & 0.000% & 0.000% \\\\\n",
      " & \\textit{Necessary Only} & 0.000% & 0.000% & 0.000% & 0.000% & 0.000% & 0.000% & 0.000% & 0.000% \\\\\n",
      "\\midrule\n",
      "\\multirow{5}{*}{Codegen} & \\textit{Summary at top} & 0.000% & 0.000% & 0.000% & 0.000% & 0.637% & 0.637% & 0.637% & 0.637% \\\\\n",
      " & \\textit{Uncommented} & 0.000% & 0.000% & 0.000% & 0.000% & 0.000% & 0.000% & 0.000% & 0.000% \\\\\n",
      " & \\textit{Summary Only} & 0.000% & 0.000% & 0.000% & 0.000% & 0.637% & 0.637% & 0.637% & 0.637% \\\\\n",
      " & \\textit{Summary at bottom} & nan% & nan% & nan% & nan% & 2.070% & 4.535% & 5.896% & 7.006% \\\\\n",
      " & \\textit{Necessary Only} & 0.000% & 0.000% & 0.000% & 0.000% & 0.000% & 0.000% & 0.000% & 0.000% \\\\\n",
      "\\midrule\n",
      "\\multirow{5}{*}{Codegen2} & \\textit{Summary at top} & 0.000% & 0.000% & 0.000% & 0.000% & 0.637% & 0.637% & 0.637% & 0.637% \\\\\n",
      " & \\textit{Uncommented} & 0.000% & 0.000% & 0.000% & 0.000% & 0.510% & 0.637% & 0.637% & 0.637% \\\\\n",
      " & \\textit{Summary Only} & 0.000% & 0.000% & 0.000% & 0.000% & 0.860% & 2.494% & 3.962% & 6.242% \\\\\n",
      " & \\textit{Summary at bottom} & nan% & nan% & nan% & nan% & 0.510% & 1.019% & 1.207% & 1.274% \\\\\n",
      " & \\textit{Necessary Only} & 0.000% & 0.000% & 0.000% & 0.000% & 0.000% & 0.000% & 0.000% & 0.000% \\\\\n",
      "\\midrule\n",
      "\\multirow{5}{*}{GPT-3} & \\textit{Summary at top} & 4.100% & 7.235% & 8.989% & 11.600% & 22.771% & 33.461% & 36.551% & 39.490% \\\\\n",
      " & \\textit{Uncommented} & 6.300% & 11.563% & 14.436% & 18.000% & 11.019% & 19.075% & 21.680% & 24.204% \\\\\n",
      " & \\textit{Summary Only} & 17.400% & 33.199% & 37.878% & 42.000% & 24.682% & 33.997% & 37.132% & 40.127% \\\\\n",
      " & \\textit{Summary at bottom} & nan% & nan% & nan% & nan% & 13.439% & 20.040% & 22.460% & 25.478% \\\\\n",
      " & \\textit{Necessary Only} & 43.500% & 52.582% & 53.995% & 55.400% & 28.758% & 39.529% & 44.029% & 47.771% \\\\\n",
      "\\midrule\n",
      "================================================================================\n",
      "\\multirow{5}{*}{InCoder} & \\textit{Summary at top} & 0.000\\% & 0.000\\% & 0.000\\% & 0.000\\% & 0.828\\% & 2.016\\% & 3.006\\% & 4.459\\% \\\\\n",
      " & \\textit{Uncommented} & 0.000\\% & 0.000\\% & 0.000\\% & 0.000\\% & 0.032\\% & 0.159\\% & 0.318\\% & 0.637\\% \\\\\n",
      " & \\textit{Summary Only} & 0.000\\% & 0.000\\% & 0.000\\% & 0.000\\% & 1.688\\% & 5.320\\% & 8.332\\% & 12.006\\% \\\\\n",
      " & \\textit{Summary at bottom} & \\textbackslash\\% & \\textbackslash\\% & \\textbackslash\\% & \\textbackslash\\% & 0.610\\% & 2.587\\% & 4.303\\% & 6.274\\% \\\\\n",
      " & \\textit{Necessary Only} & 0.000\\% & 0.000\\% & 0.000\\% & 0.000\\% & 0.032\\% & 0.159\\% & 0.318\\% & 0.637\\% \\\\\n",
      "\\midrule\n",
      "\\multirow{5}{*}{SantaCoder} & \\textit{Summary at top} & 0.000\\% & 0.000\\% & 0.000\\% & 0.000\\% & 0.637\\% & 1.338\\% & 1.844\\% & 2.548\\% \\\\\n",
      " & \\textit{Uncommented} & 0.000\\% & 0.000\\% & 0.000\\% & 0.000\\% & 0.287\\% & 0.764\\% & 0.955\\% & 1.274\\% \\\\\n",
      " & \\textit{Summary Only} & 0.000\\% & 0.000\\% & 0.000\\% & 0.000\\% & 2.965\\% & 9.848\\% & 14.227\\% & 18.181\\% \\\\\n",
      " & \\textit{Summary at bottom} & \\textbackslash\\% & \\textbackslash\\% & \\textbackslash\\% & \\textbackslash\\% & 0.510\\% & 1.949\\% & 3.013\\% & 4.459\\% \\\\\n",
      " & \\textit{Necessary Only} & 0.000\\% & 0.000\\% & 0.000\\% & 0.000\\% & 0.032\\% & 0.159\\% & 0.318\\% & 0.637\\% \\\\\n",
      "\\midrule\n",
      "\\multirow{5}{*}{StarCoder} & \\textit{Summary at top} & 0.000\\% & 0.000\\% & 0.000\\% & 0.000\\% & 3.694\\% & 13.197\\% & 19.359\\% & 24.554\\% \\\\\n",
      " & \\textit{Uncommented} & 0.000\\% & 0.000\\% & 0.000\\% & 0.000\\% & 0.318\\% & 1.062\\% & 1.591\\% & 2.548\\% \\\\\n",
      " & \\textit{Summary Only} & 0.000\\% & 0.000\\% & 0.000\\% & 0.000\\% & 4.682\\% & 15.225\\% & 21.200\\% & 27.166\\% \\\\\n",
      " & \\textit{Summary at bottom} & \\textbackslash\\% & \\textbackslash\\% & \\textbackslash\\% & \\textbackslash\\% & 6.465\\% & 13.824\\% & 16.746\\% & 19.076\\% \\\\\n",
      " & \\textit{Necessary Only} & 0.000\\% & 0.000\\% & 0.000\\% & 0.000\\% & 0.127\\% & 0.603\\% & 1.123\\% & 1.911\\% \\\\\n",
      "\\midrule\n",
      "\\multirow{5}{*}{StarCoder+} & \\textit{Summary at top} & 0.000\\% & 0.000\\% & 0.000\\% & 0.000\\% & 2.675\\% & 9.133\\% & 14.019\\% & 19.650\\% \\\\\n",
      " & \\textit{Uncommented} & 0.000\\% & 0.000\\% & 0.000\\% & 0.000\\% & 0.510\\% & 0.955\\% & 1.274\\% & 1.911\\% \\\\\n",
      " & \\textit{Summary Only} & 1.300\\% & 5.031\\% & 8.042\\% & 12.000\\% & 2.548\\% & 8.279\\% & 12.864\\% & 18.057\\% \\\\\n",
      " & \\textit{Summary at bottom} & \\textbackslash\\% & \\textbackslash\\% & \\textbackslash\\% & \\textbackslash\\% & 4.172\\% & 11.772\\% & 14.933\\% & 17.197\\% \\\\\n",
      " & \\textit{Necessary Only} & 0.000\\% & 0.000\\% & 0.000\\% & 0.000\\% & 0.127\\% & 0.457\\% & 0.609\\% & 0.637\\% \\\\\n",
      "\\midrule\n",
      "\\multirow{5}{*}{InstructCodeT5+} & \\textit{Summary at top} & 0.000\\% & 0.000\\% & 0.000\\% & 0.000\\% & 0.000\\% & 0.000\\% & 0.000\\% & 0.000\\% \\\\\n",
      " & \\textit{Uncommented} & 0.000\\% & 0.000\\% & 0.000\\% & 0.000\\% & 0.000\\% & 0.000\\% & 0.000\\% & 0.000\\% \\\\\n",
      " & \\textit{Summary Only} & 0.000\\% & 0.000\\% & 0.000\\% & 0.000\\% & 0.000\\% & 0.000\\% & 0.000\\% & 0.000\\% \\\\\n",
      " & \\textit{Summary at bottom} & \\textbackslash\\% & \\textbackslash\\% & \\textbackslash\\% & \\textbackslash\\% & 0.000\\% & 0.000\\% & 0.000\\% & 0.000\\% \\\\\n",
      " & \\textit{Necessary Only} & 0.000\\% & 0.000\\% & 0.000\\% & 0.000\\% & 0.000\\% & 0.000\\% & 0.000\\% & 0.000\\% \\\\\n",
      "\\midrule\n",
      "\\multirow{5}{*}{Codegen} & \\textit{Summary at top} & 0.000\\% & 0.000\\% & 0.000\\% & 0.000\\% & 0.637\\% & 0.637\\% & 0.637\\% & 0.637\\% \\\\\n",
      " & \\textit{Uncommented} & 0.000\\% & 0.000\\% & 0.000\\% & 0.000\\% & 0.000\\% & 0.000\\% & 0.000\\% & 0.000\\% \\\\\n",
      " & \\textit{Summary Only} & 0.000\\% & 0.000\\% & 0.000\\% & 0.000\\% & 0.637\\% & 0.637\\% & 0.637\\% & 0.637\\% \\\\\n",
      " & \\textit{Summary at bottom} & \\textbackslash\\% & \\textbackslash\\% & \\textbackslash\\% & \\textbackslash\\% & 2.070\\% & 4.535\\% & 5.896\\% & 7.006\\% \\\\\n",
      " & \\textit{Necessary Only} & 0.000\\% & 0.000\\% & 0.000\\% & 0.000\\% & 0.000\\% & 0.000\\% & 0.000\\% & 0.000\\% \\\\\n",
      "\\midrule\n",
      "\\multirow{5}{*}{Codegen2} & \\textit{Summary at top} & 0.000\\% & 0.000\\% & 0.000\\% & 0.000\\% & 0.637\\% & 0.637\\% & 0.637\\% & 0.637\\% \\\\\n",
      " & \\textit{Uncommented} & 0.000\\% & 0.000\\% & 0.000\\% & 0.000\\% & 0.510\\% & 0.637\\% & 0.637\\% & 0.637\\% \\\\\n",
      " & \\textit{Summary Only} & 0.000\\% & 0.000\\% & 0.000\\% & 0.000\\% & 0.860\\% & 2.494\\% & 3.962\\% & 6.242\\% \\\\\n",
      " & \\textit{Summary at bottom} & \\textbackslash\\% & \\textbackslash\\% & \\textbackslash\\% & \\textbackslash\\% & 0.510\\% & 1.019\\% & 1.207\\% & 1.274\\% \\\\\n",
      " & \\textit{Necessary Only} & 0.000\\% & 0.000\\% & 0.000\\% & 0.000\\% & 0.000\\% & 0.000\\% & 0.000\\% & 0.000\\% \\\\\n",
      "\\midrule\n",
      "\\multirow{5}{*}{GPT-3} & \\textit{Summary at top} & 4.100\\% & 7.235\\% & 8.989\\% & 11.600\\% & 22.771\\% & 33.461\\% & 36.551\\% & 39.490\\% \\\\\n",
      " & \\textit{Uncommented} & 6.300\\% & 11.563\\% & 14.436\\% & 18.000\\% & 11.019\\% & 19.075\\% & 21.680\\% & 24.204\\% \\\\\n",
      " & \\textit{Summary Only} & 17.400\\% & 33.199\\% & 37.878\\% & 42.000\\% & 24.682\\% & 33.997\\% & 37.132\\% & 40.127\\% \\\\\n",
      " & \\textit{Summary at bottom} & \\textbackslash\\% & \\textbackslash\\% & \\textbackslash\\% & \\textbackslash\\% & 13.439\\% & 20.040\\% & 22.460\\% & 25.478\\% \\\\\n",
      " & \\textit{Necessary Only} & 43.500\\% & 52.582\\% & 53.995\\% & 55.400\\% & 28.758\\% & 39.529\\% & 44.029\\% & 47.771\\% \\\\\n",
      "\\midrule\n",
      "\n"
     ]
    }
   ],
   "source": [
    "def generate_latex_table(models, prompt_types, languages):\n",
    "    latex_table = \"\"\n",
    "    prompt_conversion = {\n",
    "        \"-Prompts-\": \"Summary at top\",\n",
    "        \"-NoCommentPrompts-\": \"Uncommented\",\n",
    "        \"-AnnotationPrompts-\": \"Summary Only\",\n",
    "        \"-ReorderedPrompts-\": \"Summary at bottom\",\n",
    "        \"-SmallPrompts\": \"Necessary Only\",\n",
    "    }\n",
    "\n",
    "    model_conversion = {\n",
    "        \"gpt\": \"GPT-3\",\n",
    "        \"codegen-6B-mono\": \"Codegen\",\n",
    "        \"codegen2-7B\": \"Codegen2\",\n",
    "        \"starcoder-\": \"StarCoder\",\n",
    "        \"starcoderplus\": \"StarCoder+\",\n",
    "        \"instructcodet5p\": \"InstructCodeT5+\",\n",
    "        \"santacoder\": \"SantaCoder\",\n",
    "        \"incoder-6B\": \"InCoder\",\n",
    "    }\n",
    "\n",
    "    for model in models:\n",
    "        first_row = True\n",
    "        for prompt_type in prompt_types:\n",
    "            row = \"\"\n",
    "            if first_row:\n",
    "                row += f\"\\\\multirow{{{len(prompt_types)}}}{{*}}{{{model_conversion[model]}}}\"\n",
    "                first_row = False\n",
    "            row += f\" & \\\\textit{{{prompt_conversion[prompt_type]}}}\"\n",
    "            for language in languages:\n",
    "                passk_values = get_passk(model, prompt_type, language)\n",
    "                for value in passk_values:\n",
    "                    row += f\" & {value:.3%}\"\n",
    "            row += \" \\\\\\\\\"\n",
    "            new_addition = row + \"\\n\"\n",
    "            latex_table += new_addition\n",
    "            print(new_addition, end=\"\")\n",
    "        latex_table += \"\\\\midrule\\n\"\n",
    "        print(\"\\\\midrule\\n\", end=\"\")\n",
    "\n",
    "    latex_table = latex_table.replace(\"nan\", \"\\\\textbackslash\")\n",
    "    latex_table = latex_table.replace(\"%\", \"\\\\%\")\n",
    "    return latex_table\n",
    "models = [\"incoder-6B\", \"santacoder\", \"starcoder-\", \"starcoderplus\", \"instructcodet5p\", \"codegen-6B-mono\", \"codegen2-7B\", \"gpt\"]\n",
    "# models = [\"gpt\", \"codegen-6B-mono\", \"codegen2-7B\", \"starcoder-\", \"starcoderplus\", \"instructcodet5p\", \"santacoder\", \"incoder-6B\"]\n",
    "prompt_types = [\"-Prompts-\", \"-NoCommentPrompts-\", \"-AnnotationPrompts-\", \"-ReorderedPrompts-\", \"-SmallPrompts\"]\n",
    "languages = [\"Java\", \"Python\"]\n",
    "\n",
    "latex_table = generate_latex_table(models, prompt_types, languages)\n",
    "print(\"=\"*80)\n",
    "print(latex_table)\n",
    "with open(\"latex_table.txt\", \"w\") as f:\n",
    "    f.write(latex_table)"
   ]
  },
  {
   "cell_type": "code",
   "execution_count": 9,
   "metadata": {
    "ExecuteTime": {
     "end_time": "2023-06-14T15:22:07.489624Z",
     "start_time": "2023-06-14T15:20:24.902218Z"
    },
    "collapsed": false
   },
   "outputs": [],
   "source": [
    "models = [\"incoder-6B\", \"santacoder\", \"starcoder-\", \"starcoderplus\", \"instructcodet5p-16b\", \"codegen-6B-mono\", \"codegen2-7B\", \"gpt\"]\n",
    "prompt_types = [\"-Prompts-\", \"-NoCommentPrompts-\", \"-AnnotationPrompts-\", \"-ReorderedPrompts-\", \"-SmallPrompts-\"]\n",
    "languages = [\"Java\", \"Python\"]\n",
    "results = {}\n",
    "for model in models:\n",
    "    result_prompt = {}\n",
    "    for prompt_type in prompt_types:\n",
    "        result_language = {}\n",
    "        for language in languages:\n",
    "            result_language[language] = get_passk(model, prompt_type, language)\n",
    "        result_prompt[prompt_type] = result_language\n",
    "    results[model] = result_prompt\n"
   ]
  },
  {
   "cell_type": "code",
   "execution_count": 31,
   "metadata": {
    "ExecuteTime": {
     "end_time": "2023-06-14T14:10:43.437645Z",
     "start_time": "2023-06-14T14:10:43.434293Z"
    },
    "collapsed": false
   },
   "outputs": [],
   "source": [
    "# print(results)\n",
    "with open(\"results.json\", \"w\") as f:\n",
    "    json.dump(results, f)\n"
   ]
  },
  {
   "cell_type": "code",
   "execution_count": 58,
   "metadata": {
    "ExecuteTime": {
     "end_time": "2023-06-14T14:26:39.808148Z",
     "start_time": "2023-06-14T14:26:39.802742Z"
    },
    "collapsed": false
   },
   "outputs": [],
   "source": [
    "# get all objects that have \"incoder\" in the \"test_case_id\"\n",
    "def get_passk2(model_name, prompt_type, language):\n",
    "    data = copy.deepcopy(backup)\n",
    "    data = [x for x in data if model_name in x[\"test_case_id\"]]\n",
    "    data = [x for x in data if prompt_type in x[\"test_case_id\"]]\n",
    "    data = [x for x in data if language in x[\"test_case_id\"]]\n",
    "\n",
    "    # group\n",
    "    arr = {}\n",
    "    for x in data:\n",
    "        # get entire string before the last -\n",
    "        id = x[\"test_case_id\"].rsplit(\"-\", 1)[0]\n",
    "        if id not in arr:\n",
    "            arr[id] = []\n",
    "        arr[id].append(x)\n",
    "\n",
    "    results = {}\n",
    "    for key in arr:\n",
    "        # count the number of correct, and total elements\n",
    "        correct = 0\n",
    "        total = 0\n",
    "        for x in arr[key]:\n",
    "            if x[\"res\"] == True:\n",
    "                correct += 1\n",
    "            total += 1\n",
    "        results[key] = {\"correct\": correct, \"total\": total}\n",
    "\n",
    "\n",
    "    # print(\"Number of functions: \", len(results))\n",
    "\n",
    "    ks=[1,5,10,20]\n",
    "\n",
    "    def pass_at_k(n, c, k):\n",
    "        if n - c < k: return 1.0\n",
    "        return 1.0 - np.prod(1.0 - k / np.arange(n - c + 1, n + 1))\n",
    "\n",
    "    k_results = {}\n",
    "    for key in results:\n",
    "        temp_results = {}\n",
    "        for k in ks:\n",
    "            correct = results[key][\"correct\"]\n",
    "            total = results[key][\"total\"]\n",
    "            k = min(k, total)\n",
    "            temp_results[str(k)] = pass_at_k(total, correct, k)\n",
    "        # print(key, temp_results)\n",
    "        k_results[key] = temp_results\n",
    "    return k_results\n"
   ]
  },
  {
   "cell_type": "code",
   "execution_count": null,
   "metadata": {
    "ExecuteTime": {
     "end_time": "2023-06-14T14:25:26.089975Z",
     "start_time": "2023-06-14T14:25:24.726127Z"
    },
    "collapsed": false
   },
   "outputs": [],
   "source": [
    "get_passk2(\"incoder-6B\", \"-Prompts-\", \"Java\")"
   ]
  },
  {
   "cell_type": "code",
   "execution_count": 72,
   "metadata": {
    "ExecuteTime": {
     "end_time": "2023-06-14T15:24:23.041975Z",
     "start_time": "2023-06-14T15:22:39.895213Z"
    },
    "collapsed": false
   },
   "outputs": [
    {
     "name": "stdout",
     "output_type": "stream",
     "text": [
      "incoder-6B -Prompts- Java\n",
      "incoder-6B -Prompts- Python\n",
      "incoder-6B -NoCommentPrompts- Java\n",
      "incoder-6B -NoCommentPrompts- Python\n",
      "incoder-6B -AnnotationPrompts- Java\n",
      "incoder-6B -AnnotationPrompts- Python\n",
      "incoder-6B -ReorderedPrompts- Java\n",
      "incoder-6B -ReorderedPrompts- Python\n",
      "incoder-6B -SmallPrompts- Java\n",
      "incoder-6B -SmallPrompts- Python\n",
      "santacoder -Prompts- Java\n",
      "santacoder -Prompts- Python\n",
      "santacoder -NoCommentPrompts- Java\n",
      "santacoder -NoCommentPrompts- Python\n",
      "santacoder -AnnotationPrompts- Java\n",
      "santacoder -AnnotationPrompts- Python\n",
      "santacoder -ReorderedPrompts- Java\n",
      "santacoder -ReorderedPrompts- Python\n",
      "santacoder -SmallPrompts- Java\n",
      "santacoder -SmallPrompts- Python\n",
      "starcoder- -Prompts- Java\n",
      "starcoder- -Prompts- Python\n",
      "starcoder- -NoCommentPrompts- Java\n",
      "starcoder- -NoCommentPrompts- Python\n",
      "starcoder- -AnnotationPrompts- Java\n",
      "starcoder- -AnnotationPrompts- Python\n",
      "starcoder- -ReorderedPrompts- Java\n",
      "starcoder- -ReorderedPrompts- Python\n",
      "starcoder- -SmallPrompts- Java\n",
      "starcoder- -SmallPrompts- Python\n",
      "starcoderplus -Prompts- Java\n",
      "starcoderplus -Prompts- Python\n",
      "starcoderplus -NoCommentPrompts- Java\n",
      "starcoderplus -NoCommentPrompts- Python\n",
      "starcoderplus -AnnotationPrompts- Java\n",
      "starcoderplus -AnnotationPrompts- Python\n",
      "starcoderplus -ReorderedPrompts- Java\n",
      "starcoderplus -ReorderedPrompts- Python\n",
      "starcoderplus -SmallPrompts- Java\n",
      "starcoderplus -SmallPrompts- Python\n",
      "instructcodet5p-16b -Prompts- Java\n",
      "instructcodet5p-16b -Prompts- Python\n",
      "instructcodet5p-16b -NoCommentPrompts- Java\n",
      "instructcodet5p-16b -NoCommentPrompts- Python\n",
      "instructcodet5p-16b -AnnotationPrompts- Java\n",
      "instructcodet5p-16b -AnnotationPrompts- Python\n",
      "instructcodet5p-16b -ReorderedPrompts- Java\n",
      "instructcodet5p-16b -ReorderedPrompts- Python\n",
      "instructcodet5p-16b -SmallPrompts- Java\n",
      "instructcodet5p-16b -SmallPrompts- Python\n",
      "codegen-6B-mono -Prompts- Java\n",
      "codegen-6B-mono -Prompts- Python\n",
      "codegen-6B-mono -NoCommentPrompts- Java\n",
      "codegen-6B-mono -NoCommentPrompts- Python\n",
      "codegen-6B-mono -AnnotationPrompts- Java\n",
      "codegen-6B-mono -AnnotationPrompts- Python\n",
      "codegen-6B-mono -ReorderedPrompts- Java\n",
      "codegen-6B-mono -ReorderedPrompts- Python\n",
      "codegen-6B-mono -SmallPrompts- Java\n",
      "codegen-6B-mono -SmallPrompts- Python\n",
      "codegen2-7B -Prompts- Java\n",
      "codegen2-7B -Prompts- Python\n",
      "codegen2-7B -NoCommentPrompts- Java\n",
      "codegen2-7B -NoCommentPrompts- Python\n",
      "codegen2-7B -AnnotationPrompts- Java\n",
      "codegen2-7B -AnnotationPrompts- Python\n",
      "codegen2-7B -ReorderedPrompts- Java\n",
      "codegen2-7B -ReorderedPrompts- Python\n",
      "codegen2-7B -SmallPrompts- Java\n",
      "codegen2-7B -SmallPrompts- Python\n",
      "gpt -Prompts- Java\n",
      "gpt -Prompts- Python\n",
      "gpt -NoCommentPrompts- Java\n",
      "gpt -NoCommentPrompts- Python\n",
      "gpt -AnnotationPrompts- Java\n",
      "gpt -AnnotationPrompts- Python\n",
      "gpt -ReorderedPrompts- Java\n",
      "gpt -ReorderedPrompts- Python\n",
      "gpt -SmallPrompts- Java\n",
      "gpt -SmallPrompts- Python\n"
     ]
    }
   ],
   "source": [
    "result_individual = {}\n",
    "for model in models:\n",
    "    result_prompt = {}\n",
    "    for prompt_type in prompt_types:\n",
    "        result_language = {}\n",
    "        for language in languages:\n",
    "            print(model, prompt_type, language)\n",
    "            result_language[language] = get_passk2(model, prompt_type, language)\n",
    "        result_prompt[prompt_type] = result_language\n",
    "    result_individual[model] = result_prompt"
   ]
  },
  {
   "cell_type": "code",
   "execution_count": 74,
   "metadata": {
    "ExecuteTime": {
     "end_time": "2023-06-14T15:24:24.547938Z",
     "start_time": "2023-06-14T15:24:24.545132Z"
    },
    "collapsed": false
   },
   "outputs": [],
   "source": [
    "# convert \"starcoder-\" to \"starcoder\"\n",
    "result_individual[\"starcoder\"] = result_individual[\"starcoder-\"]\n",
    "del result_individual[\"starcoder-\"]"
   ]
  },
  {
   "cell_type": "code",
   "execution_count": 75,
   "metadata": {
    "ExecuteTime": {
     "end_time": "2023-06-14T15:24:25.592587Z",
     "start_time": "2023-06-14T15:24:25.550362Z"
    },
    "collapsed": false
   },
   "outputs": [],
   "source": [
    "with open(\"results_individual.json\", \"w\") as f:\n",
    "    json.dump(result_individual, f)"
   ]
  },
  {
   "cell_type": "code",
   "execution_count": 78,
   "metadata": {
    "ExecuteTime": {
     "end_time": "2023-06-14T15:34:23.140885Z",
     "start_time": "2023-06-14T15:34:23.138279Z"
    },
    "collapsed": false
   },
   "outputs": [
    {
     "data": {
      "text/plain": [
       "{'1': 0.0, '5': 0.0, '10': 0.0, '20': 0.0}"
      ]
     },
     "execution_count": 78,
     "metadata": {},
     "output_type": "execute_result"
    }
   ],
   "source": [
    "result_individual[\"incoder-6B\"][\"-SmallPrompts-\"][\"Python\"][\"incoder-6B-v1-Python-SmallPrompts-63e7ba3e0826dbfb3673b619c5caa94f1aba97ba1309e73812909e689653f907\"]"
   ]
  },
  {
   "cell_type": "code",
   "execution_count": 79,
   "metadata": {
    "ExecuteTime": {
     "end_time": "2023-06-14T15:35:49.274053Z",
     "start_time": "2023-06-14T15:35:49.257327Z"
    },
    "collapsed": false
   },
   "outputs": [
    {
     "data": {
      "text/plain": [
       "{'1': 0.0, '5': 0.0, '10': 0.0, '20': 0.0}"
      ]
     },
     "execution_count": 79,
     "metadata": {},
     "output_type": "execute_result"
    }
   ],
   "source": [
    "with open(\"results_individual.json\", \"r\") as f:\n",
    "    result_individual2 = json.load(f)\n",
    "\n",
    "result_individual2[\"incoder-6B\"][\"-SmallPrompts-\"][\"Python\"][\"incoder-6B-v1-Python-SmallPrompts-63e7ba3e0826dbfb3673b619c5caa94f1aba97ba1309e73812909e689653f907\"]"
   ]
  },
  {
   "cell_type": "code",
   "execution_count": 70,
   "metadata": {
    "ExecuteTime": {
     "end_time": "2023-06-14T15:06:37.677436Z",
     "start_time": "2023-06-14T15:06:37.674150Z"
    },
    "collapsed": false
   },
   "outputs": [
    {
     "ename": "ModuleNotFoundError",
     "evalue": "No module named 'transformers'",
     "output_type": "error",
     "traceback": [
      "\u001b[0;31m---------------------------------------------------------------------------\u001b[0m",
      "\u001b[0;31mModuleNotFoundError\u001b[0m                       Traceback (most recent call last)",
      "Cell \u001b[0;32mIn[70], line 1\u001b[0m\n\u001b[0;32m----> 1\u001b[0m \u001b[38;5;28;01mfrom\u001b[39;00m \u001b[38;5;21;01mtransformers\u001b[39;00m \u001b[38;5;28;01mimport\u001b[39;00m AutoTokenizer\n\u001b[1;32m      3\u001b[0m author_model_pair \u001b[38;5;241m=\u001b[39m []\n",
      "\u001b[0;31mModuleNotFoundError\u001b[0m: No module named 'transformers'"
     ]
    }
   ],
   "source": [
    "from transformers import AutoTokenizer\n",
    "import tiktoken\n",
    "models = [\"incoder-6B\", \"santacoder\", \"starcoder-\", \"starcoderplus\", \"instructcodet5p-16b\", \"codegen-6B-mono\", \"codegen2-7B\", \"gpt\"]\n",
    "prompt_types = [\"-Prompts-\", \"-NoCommentPrompts-\", \"-AnnotationPrompts-\", \"-ReorderedPrompts-\", \"-SmallPrompts-\"]\n",
    "languages = [\"Java\", \"Python\"]\n",
    "author_model_pair = [\n",
    "    \"facebook/incoder-6B\",\n",
    "    \"bigcode/santacoder\",\n",
    "    \"bigcode/starcoder\",\n",
    "    \"bigcode/starcoderplus\",\n",
    "    \"bigcode/instructcodet5p-16b\",\n",
    "    \"Salesforce/codegen-6B-mono\",\n",
    "    \"Salesforce/codegen2-7B\",\n",
    "]\n",
    "\n",
    "def get_tokenizer(model_pair):\n",
    "    return AutoTokenizer.from_pretrained(model_pair)\n",
    "\n",
    "\n",
    "\n"
   ]
  },
  {
   "cell_type": "code",
   "execution_count": null,
   "metadata": {
    "collapsed": false
   },
   "outputs": [],
   "source": []
  }
 ],
 "metadata": {
  "kernelspec": {
   "display_name": "venv",
   "language": "python",
   "name": "python3"
  },
  "language_info": {
   "codemirror_mode": {
    "name": "ipython",
    "version": 3
   },
   "file_extension": ".py",
   "mimetype": "text/x-python",
   "name": "python",
   "nbconvert_exporter": "python",
   "pygments_lexer": "ipython3",
   "version": "3.10.10"
  },
  "orig_nbformat": 4,
  "vscode": {
   "interpreter": {
    "hash": "9b672c9389238a9ffb5ee1758d18c8ffbf737bb80d79b3a7488d1e5058fdac62"
   }
  }
 },
 "nbformat": 4,
 "nbformat_minor": 2
}
